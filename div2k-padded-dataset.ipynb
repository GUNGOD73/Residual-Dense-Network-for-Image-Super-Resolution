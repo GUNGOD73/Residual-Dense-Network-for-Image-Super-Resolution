{
 "cells": [
  {
   "cell_type": "code",
   "execution_count": 1,
   "id": "bf8e9cbd",
   "metadata": {
    "_cell_guid": "b1076dfc-b9ad-4769-8c92-a6c4dae69d19",
    "_uuid": "8f2839f25d086af736a60e9eeb907d3b93b6e0e5",
    "execution": {
     "iopub.execute_input": "2024-04-14T16:26:07.299640Z",
     "iopub.status.busy": "2024-04-14T16:26:07.299135Z",
     "iopub.status.idle": "2024-04-14T16:26:08.464166Z",
     "shell.execute_reply": "2024-04-14T16:26:08.463212Z"
    },
    "papermill": {
     "duration": 1.175547,
     "end_time": "2024-04-14T16:26:08.466863",
     "exception": false,
     "start_time": "2024-04-14T16:26:07.291316",
     "status": "completed"
    },
    "tags": []
   },
   "outputs": [],
   "source": [
    "import numpy as np \n",
    "import pandas as pd\n",
    "import cv2\n",
    "import os\n",
    "import matplotlib.pyplot as plt"
   ]
  },
  {
   "cell_type": "markdown",
   "id": "3672f66b",
   "metadata": {
    "papermill": {
     "duration": 0.00466,
     "end_time": "2024-04-14T16:26:08.479344",
     "exception": false,
     "start_time": "2024-04-14T16:26:08.474684",
     "status": "completed"
    },
    "tags": []
   },
   "source": [
    "# Training and validation directories in dataset"
   ]
  },
  {
   "cell_type": "code",
   "execution_count": 2,
   "id": "5b8970c8",
   "metadata": {
    "execution": {
     "iopub.execute_input": "2024-04-14T16:26:08.492996Z",
     "iopub.status.busy": "2024-04-14T16:26:08.491695Z",
     "iopub.status.idle": "2024-04-14T16:26:08.497240Z",
     "shell.execute_reply": "2024-04-14T16:26:08.496392Z"
    },
    "papermill": {
     "duration": 0.015195,
     "end_time": "2024-04-14T16:26:08.499532",
     "exception": false,
     "start_time": "2024-04-14T16:26:08.484337",
     "status": "completed"
    },
    "tags": []
   },
   "outputs": [],
   "source": [
    "traindir='/kaggle/input/div2k-dataset/div2k_train_hr/DIV2K_train_HR/'\n",
    "validdir='/kaggle/input/div2k-dataset/div2k_valid_hr/DIV2K_valid_HR/'"
   ]
  },
  {
   "cell_type": "markdown",
   "id": "02ce3229",
   "metadata": {
    "papermill": {
     "duration": 0.00463,
     "end_time": "2024-04-14T16:26:08.509496",
     "exception": false,
     "start_time": "2024-04-14T16:26:08.504866",
     "status": "completed"
    },
    "tags": []
   },
   "source": [
    "# Sample size"
   ]
  },
  {
   "cell_type": "code",
   "execution_count": 3,
   "id": "33b4ca52",
   "metadata": {
    "execution": {
     "iopub.execute_input": "2024-04-14T16:26:08.521592Z",
     "iopub.status.busy": "2024-04-14T16:26:08.520816Z",
     "iopub.status.idle": "2024-04-14T16:26:08.972074Z",
     "shell.execute_reply": "2024-04-14T16:26:08.971010Z"
    },
    "papermill": {
     "duration": 0.460614,
     "end_time": "2024-04-14T16:26:08.975016",
     "exception": false,
     "start_time": "2024-04-14T16:26:08.514402",
     "status": "completed"
    },
    "tags": []
   },
   "outputs": [
    {
     "name": "stdout",
     "output_type": "stream",
     "text": [
      "Training sample size: 800\n",
      "Validation sample size: 100\n"
     ]
    }
   ],
   "source": [
    "print(\"Training sample size:\",len(os.listdir(traindir)))\n",
    "print(\"Validation sample size:\",len(os.listdir(validdir)))"
   ]
  },
  {
   "cell_type": "markdown",
   "id": "5d0af70e",
   "metadata": {
    "papermill": {
     "duration": 0.00482,
     "end_time": "2024-04-14T16:26:08.984910",
     "exception": false,
     "start_time": "2024-04-14T16:26:08.980090",
     "status": "completed"
    },
    "tags": []
   },
   "source": [
    "# Sizes of each images"
   ]
  },
  {
   "cell_type": "code",
   "execution_count": 4,
   "id": "3474c4ae",
   "metadata": {
    "execution": {
     "iopub.execute_input": "2024-04-14T16:26:08.997549Z",
     "iopub.status.busy": "2024-04-14T16:26:08.997206Z",
     "iopub.status.idle": "2024-04-14T16:28:20.387757Z",
     "shell.execute_reply": "2024-04-14T16:28:20.386460Z"
    },
    "papermill": {
     "duration": 131.400111,
     "end_time": "2024-04-14T16:28:20.390856",
     "exception": false,
     "start_time": "2024-04-14T16:26:08.990745",
     "status": "completed"
    },
    "tags": []
   },
   "outputs": [],
   "source": [
    "image_sizes_train=[cv2.imread(traindir+i).shape for i in os.listdir(traindir)]\n",
    "image_sizes_valid=[ cv2.imread(validdir+i).shape for i in os.listdir(validdir)]"
   ]
  },
  {
   "cell_type": "code",
   "execution_count": 5,
   "id": "1abcc5c3",
   "metadata": {
    "execution": {
     "iopub.execute_input": "2024-04-14T16:28:20.403419Z",
     "iopub.status.busy": "2024-04-14T16:28:20.403010Z",
     "iopub.status.idle": "2024-04-14T16:28:20.409225Z",
     "shell.execute_reply": "2024-04-14T16:28:20.407679Z"
    },
    "papermill": {
     "duration": 0.015542,
     "end_time": "2024-04-14T16:28:20.411911",
     "exception": false,
     "start_time": "2024-04-14T16:28:20.396369",
     "status": "completed"
    },
    "tags": []
   },
   "outputs": [],
   "source": [
    "image_sizes_train= set(image_sizes_train)\n",
    "image_sizes_valid= set(image_sizes_valid)"
   ]
  },
  {
   "cell_type": "code",
   "execution_count": 6,
   "id": "f221b3b1",
   "metadata": {
    "execution": {
     "iopub.execute_input": "2024-04-14T16:28:20.426999Z",
     "iopub.status.busy": "2024-04-14T16:28:20.426595Z",
     "iopub.status.idle": "2024-04-14T16:28:20.432608Z",
     "shell.execute_reply": "2024-04-14T16:28:20.431261Z"
    },
    "papermill": {
     "duration": 0.017157,
     "end_time": "2024-04-14T16:28:20.435461",
     "exception": false,
     "start_time": "2024-04-14T16:28:20.418304",
     "status": "completed"
    },
    "tags": []
   },
   "outputs": [
    {
     "name": "stdout",
     "output_type": "stream",
     "text": [
      "Different sizes of hr training images: 94\n",
      "Different sizes of hr validation images: 24\n"
     ]
    }
   ],
   "source": [
    "print(\"Different sizes of hr training images:\",len(image_sizes_train))\n",
    "print(\"Different sizes of hr validation images:\",len(image_sizes_valid))"
   ]
  },
  {
   "cell_type": "code",
   "execution_count": 7,
   "id": "10449055",
   "metadata": {
    "execution": {
     "iopub.execute_input": "2024-04-14T16:28:20.449357Z",
     "iopub.status.busy": "2024-04-14T16:28:20.448871Z",
     "iopub.status.idle": "2024-04-14T16:28:20.463913Z",
     "shell.execute_reply": "2024-04-14T16:28:20.462668Z"
    },
    "papermill": {
     "duration": 0.025595,
     "end_time": "2024-04-14T16:28:20.466405",
     "exception": false,
     "start_time": "2024-04-14T16:28:20.440810",
     "status": "completed"
    },
    "tags": []
   },
   "outputs": [
    {
     "data": {
      "text/plain": [
       "{(648, 2040, 3),\n",
       " (732, 2040, 3),\n",
       " (744, 2040, 3),\n",
       " (768, 2040, 3),\n",
       " (780, 2040, 3),\n",
       " (852, 2040, 3),\n",
       " (864, 2040, 3),\n",
       " (888, 2040, 3),\n",
       " (936, 2040, 3),\n",
       " (948, 2040, 3),\n",
       " (960, 2040, 3),\n",
       " (972, 2040, 3),\n",
       " (1044, 2040, 3),\n",
       " (1068, 2040, 3),\n",
       " (1080, 2040, 3),\n",
       " (1092, 2040, 3),\n",
       " (1128, 2040, 3),\n",
       " (1140, 2040, 3),\n",
       " (1152, 2040, 3),\n",
       " (1164, 2040, 3),\n",
       " (1176, 2040, 3),\n",
       " (1188, 2040, 3),\n",
       " (1200, 2040, 3),\n",
       " (1212, 2040, 3),\n",
       " (1224, 2040, 3),\n",
       " (1248, 2040, 3),\n",
       " (1260, 2040, 3),\n",
       " (1272, 2040, 3),\n",
       " (1284, 2040, 3),\n",
       " (1296, 2040, 3),\n",
       " (1308, 2040, 3),\n",
       " (1320, 2040, 3),\n",
       " (1332, 2040, 3),\n",
       " (1344, 2040, 3),\n",
       " (1356, 2040, 3),\n",
       " (1368, 2040, 3),\n",
       " (1380, 2040, 3),\n",
       " (1392, 2040, 3),\n",
       " (1404, 2040, 3),\n",
       " (1416, 2040, 3),\n",
       " (1428, 2040, 3),\n",
       " (1440, 2040, 3),\n",
       " (1452, 2040, 3),\n",
       " (1464, 2040, 3),\n",
       " (1476, 2040, 3),\n",
       " (1488, 2040, 3),\n",
       " (1512, 2040, 3),\n",
       " (1524, 2040, 3),\n",
       " (1536, 2040, 3),\n",
       " (1548, 2040, 3),\n",
       " (1560, 2040, 3),\n",
       " (1572, 2040, 3),\n",
       " (1584, 2040, 3),\n",
       " (1608, 2040, 3),\n",
       " (1632, 2040, 3),\n",
       " (1644, 2040, 3),\n",
       " (1656, 2040, 3),\n",
       " (1692, 2040, 3),\n",
       " (1728, 2040, 3),\n",
       " (1752, 2040, 3),\n",
       " (1788, 2040, 3),\n",
       " (1800, 2040, 3),\n",
       " (1836, 2040, 3),\n",
       " (1848, 2040, 3),\n",
       " (1992, 2040, 3),\n",
       " (2004, 2040, 3),\n",
       " (2040, 1116, 3),\n",
       " (2040, 1140, 3),\n",
       " (2040, 1164, 3),\n",
       " (2040, 1176, 3),\n",
       " (2040, 1236, 3),\n",
       " (2040, 1248, 3),\n",
       " (2040, 1284, 3),\n",
       " (2040, 1296, 3),\n",
       " (2040, 1320, 3),\n",
       " (2040, 1344, 3),\n",
       " (2040, 1356, 3),\n",
       " (2040, 1368, 3),\n",
       " (2040, 1428, 3),\n",
       " (2040, 1440, 3),\n",
       " (2040, 1476, 3),\n",
       " (2040, 1524, 3),\n",
       " (2040, 1536, 3),\n",
       " (2040, 1572, 3),\n",
       " (2040, 1608, 3),\n",
       " (2040, 1632, 3),\n",
       " (2040, 1644, 3),\n",
       " (2040, 1716, 3),\n",
       " (2040, 1776, 3),\n",
       " (2040, 1824, 3),\n",
       " (2040, 1944, 3),\n",
       " (2040, 1968, 3),\n",
       " (2040, 1992, 3),\n",
       " (2040, 2040, 3)}"
      ]
     },
     "execution_count": 7,
     "metadata": {},
     "output_type": "execute_result"
    }
   ],
   "source": [
    "image_sizes_train"
   ]
  },
  {
   "cell_type": "markdown",
   "id": "98617503",
   "metadata": {
    "papermill": {
     "duration": 0.005253,
     "end_time": "2024-04-14T16:28:20.479334",
     "exception": false,
     "start_time": "2024-04-14T16:28:20.474081",
     "status": "completed"
    },
    "tags": []
   },
   "source": [
    "# Reshape each image to size 2040 x 2040 by adding padding "
   ]
  },
  {
   "cell_type": "code",
   "execution_count": 8,
   "id": "1eb77673",
   "metadata": {
    "execution": {
     "iopub.execute_input": "2024-04-14T16:28:20.492819Z",
     "iopub.status.busy": "2024-04-14T16:28:20.492399Z",
     "iopub.status.idle": "2024-04-14T16:28:20.500074Z",
     "shell.execute_reply": "2024-04-14T16:28:20.498884Z"
    },
    "papermill": {
     "duration": 0.017449,
     "end_time": "2024-04-14T16:28:20.502528",
     "exception": false,
     "start_time": "2024-04-14T16:28:20.485079",
     "status": "completed"
    },
    "tags": []
   },
   "outputs": [],
   "source": [
    "import cv2\n",
    "import numpy as np\n",
    "\n",
    "def resize_and_pad(image, target_size):\n",
    "    h, w = image.shape[:2]\n",
    "    max_dim = max(h, w)\n",
    "    delta_w = max_dim - w\n",
    "    delta_h = max_dim - h\n",
    "    top, bottom = delta_h // 2, delta_h - (delta_h // 2)\n",
    "    left, right = delta_w // 2, delta_w - (delta_w // 2)\n",
    "    color = [0, 0, 0]\n",
    "    new_image = cv2.copyMakeBorder(image, top, bottom, left, right, cv2.BORDER_CONSTANT, value=color)\n",
    "    resized_image = cv2.resize(new_image, target_size,interpolation=cv2.INTER_AREA)\n",
    "    return resized_image"
   ]
  },
  {
   "cell_type": "markdown",
   "id": "47d839aa",
   "metadata": {
    "papermill": {
     "duration": 0.005285,
     "end_time": "2024-04-14T16:28:20.513809",
     "exception": false,
     "start_time": "2024-04-14T16:28:20.508524",
     "status": "completed"
    },
    "tags": []
   },
   "source": [
    "# Reduce quality of high resolution images by adding blurring etc. to produce low-quality low-resolution images"
   ]
  },
  {
   "cell_type": "code",
   "execution_count": 9,
   "id": "110d4cf7",
   "metadata": {
    "execution": {
     "iopub.execute_input": "2024-04-14T16:28:20.527548Z",
     "iopub.status.busy": "2024-04-14T16:28:20.527177Z",
     "iopub.status.idle": "2024-04-14T16:28:20.536146Z",
     "shell.execute_reply": "2024-04-14T16:28:20.534855Z"
    },
    "papermill": {
     "duration": 0.019104,
     "end_time": "2024-04-14T16:28:20.538923",
     "exception": false,
     "start_time": "2024-04-14T16:28:20.519819",
     "status": "completed"
    },
    "tags": []
   },
   "outputs": [],
   "source": [
    "def add_realistic_effects(image):\n",
    "    mean = 0\n",
    "    sigma = np.random.uniform(0.3, 0.5)  # Random sigma value between 0.1 and 0.5\n",
    "    gauss = np.random.normal(mean, sigma, image.shape)\n",
    "    noisy_image = np.clip(image + gauss, 0, 255).astype(np.uint8)\n",
    "    kernel_size = np.random.choice([3, 5, 7])  # Randomly select kernel size\n",
    "    blurred_image = cv2.GaussianBlur(noisy_image, (kernel_size, kernel_size), 0)\n",
    "    depixelated_image = cv2.resize(blurred_image, None, fx=0.5, fy=0.5, interpolation=cv2.INTER_NEAREST)\n",
    "\n",
    "    return cv2.resize(blurred_image, (510,510), interpolation=cv2.INTER_NEAREST)"
   ]
  },
  {
   "cell_type": "markdown",
   "id": "129c6923",
   "metadata": {
    "papermill": {
     "duration": 0.005906,
     "end_time": "2024-04-14T16:28:20.551082",
     "exception": false,
     "start_time": "2024-04-14T16:28:20.545176",
     "status": "completed"
    },
    "tags": []
   },
   "source": [
    "# Create directories and place images in respective folders"
   ]
  },
  {
   "cell_type": "code",
   "execution_count": 10,
   "id": "89a295c3",
   "metadata": {
    "execution": {
     "iopub.execute_input": "2024-04-14T16:28:20.564369Z",
     "iopub.status.busy": "2024-04-14T16:28:20.563967Z",
     "iopub.status.idle": "2024-04-14T16:28:20.571293Z",
     "shell.execute_reply": "2024-04-14T16:28:20.570301Z"
    },
    "papermill": {
     "duration": 0.0163,
     "end_time": "2024-04-14T16:28:20.573478",
     "exception": false,
     "start_time": "2024-04-14T16:28:20.557178",
     "status": "completed"
    },
    "tags": []
   },
   "outputs": [],
   "source": [
    "os.mkdir(\"Training\")\n",
    "os.mkdir(\"Training/HR\")\n",
    "os.mkdir(\"Training/HR/hr_images\")\n",
    "os.mkdir(\"Training/LR\")\n",
    "os.mkdir(\"Training/LR/lr_images\")\n",
    "\n",
    "os.mkdir(\"Validation\")\n",
    "os.mkdir(\"Validation/HR\")\n",
    "os.mkdir(\"Validation/HR/hr_images\")\n",
    "os.mkdir(\"Validation/LR\")\n",
    "os.mkdir(\"Validation/LR/lr_images\")"
   ]
  },
  {
   "cell_type": "code",
   "execution_count": 11,
   "id": "76dc7e33",
   "metadata": {
    "execution": {
     "iopub.execute_input": "2024-04-14T16:28:20.586124Z",
     "iopub.status.busy": "2024-04-14T16:28:20.585771Z",
     "iopub.status.idle": "2024-04-14T16:37:06.757935Z",
     "shell.execute_reply": "2024-04-14T16:37:06.756755Z"
    },
    "papermill": {
     "duration": 526.18233,
     "end_time": "2024-04-14T16:37:06.761339",
     "exception": false,
     "start_time": "2024-04-14T16:28:20.579009",
     "status": "completed"
    },
    "tags": []
   },
   "outputs": [],
   "source": [
    "training_image_paths = [traindir+i for i in os.listdir(traindir)]\n",
    "hr_training_images = []\n",
    "lr_training_images=[]\n",
    "target_size=(2040,2040)\n",
    "for image_path in training_image_paths:\n",
    "    image = cv2.imread(image_path)\n",
    "    resized_image = resize_and_pad(image, target_size)\n",
    "    hr_training_images.append(resized_image[...,::-1])\n",
    "    lr_training_images.append(add_realistic_effects(resized_image)[...,::-1])\n",
    "    "
   ]
  },
  {
   "cell_type": "code",
   "execution_count": 12,
   "id": "41bc97a2",
   "metadata": {
    "execution": {
     "iopub.execute_input": "2024-04-14T16:37:06.775240Z",
     "iopub.status.busy": "2024-04-14T16:37:06.774856Z",
     "iopub.status.idle": "2024-04-14T16:38:14.765366Z",
     "shell.execute_reply": "2024-04-14T16:38:14.764404Z"
    },
    "papermill": {
     "duration": 68.001108,
     "end_time": "2024-04-14T16:38:14.768275",
     "exception": false,
     "start_time": "2024-04-14T16:37:06.767167",
     "status": "completed"
    },
    "tags": []
   },
   "outputs": [],
   "source": [
    "validation_image_paths = [validdir+i for i in os.listdir(validdir)]\n",
    "hr_valid_images = []\n",
    "lr_valid_images=[]\n",
    "for image_path in validation_image_paths:\n",
    "    image = cv2.imread(image_path)\n",
    "    resized_image = resize_and_pad(image, target_size)\n",
    "    hr_valid_images.append(resized_image[...,::-1])\n",
    "    lr_valid_images.append(add_realistic_effects(resized_image)[...,::-1])"
   ]
  },
  {
   "cell_type": "code",
   "execution_count": 13,
   "id": "95f13753",
   "metadata": {
    "execution": {
     "iopub.execute_input": "2024-04-14T16:38:14.781052Z",
     "iopub.status.busy": "2024-04-14T16:38:14.780706Z",
     "iopub.status.idle": "2024-04-14T16:39:55.488753Z",
     "shell.execute_reply": "2024-04-14T16:39:55.486965Z"
    },
    "papermill": {
     "duration": 100.71803,
     "end_time": "2024-04-14T16:39:55.492199",
     "exception": false,
     "start_time": "2024-04-14T16:38:14.774169",
     "status": "completed"
    },
    "tags": []
   },
   "outputs": [],
   "source": [
    "hr_train_save_dir=\"/kaggle/working/Training/HR/hr_images/\"\n",
    "lr_train_save_dir=\"/kaggle/working/Training/LR/lr_images/\"\n",
    "for i in range(800):\n",
    "    plt.imsave(hr_train_save_dir+str(i)+\".jpg\",hr_training_images[i])\n",
    "    plt.imsave(lr_train_save_dir+str(i)+\".jpg\",lr_training_images[i])\n",
    "    "
   ]
  },
  {
   "cell_type": "code",
   "execution_count": 14,
   "id": "b22ac778",
   "metadata": {
    "execution": {
     "iopub.execute_input": "2024-04-14T16:39:55.507519Z",
     "iopub.status.busy": "2024-04-14T16:39:55.507084Z",
     "iopub.status.idle": "2024-04-14T16:40:08.148424Z",
     "shell.execute_reply": "2024-04-14T16:40:08.146800Z"
    },
    "papermill": {
     "duration": 12.652945,
     "end_time": "2024-04-14T16:40:08.151344",
     "exception": false,
     "start_time": "2024-04-14T16:39:55.498399",
     "status": "completed"
    },
    "tags": []
   },
   "outputs": [],
   "source": [
    "hr_valid_save_dir=\"/kaggle/working/Validation/HR/hr_images/\"\n",
    "lr_valid_save_dir=\"/kaggle/working/Validation/LR/lr_images/\"\n",
    "for i in range(100):\n",
    "    plt.imsave(hr_valid_save_dir+str(i)+\".jpg\",hr_valid_images[i])\n",
    "    plt.imsave(lr_valid_save_dir+str(i)+\".jpg\",lr_valid_images[i])"
   ]
  }
 ],
 "metadata": {
  "kaggle": {
   "accelerator": "none",
   "dataSources": [
    {
     "datasetId": 286056,
     "sourceId": 588358,
     "sourceType": "datasetVersion"
    }
   ],
   "dockerImageVersionId": 30684,
   "isGpuEnabled": false,
   "isInternetEnabled": true,
   "language": "python",
   "sourceType": "notebook"
  },
  "kernelspec": {
   "display_name": "Python 3",
   "language": "python",
   "name": "python3"
  },
  "language_info": {
   "codemirror_mode": {
    "name": "ipython",
    "version": 3
   },
   "file_extension": ".py",
   "mimetype": "text/x-python",
   "name": "python",
   "nbconvert_exporter": "python",
   "pygments_lexer": "ipython3",
   "version": "3.10.13"
  },
  "papermill": {
   "default_parameters": {},
   "duration": 844.440422,
   "end_time": "2024-04-14T16:40:08.882623",
   "environment_variables": {},
   "exception": null,
   "input_path": "__notebook__.ipynb",
   "output_path": "__notebook__.ipynb",
   "parameters": {},
   "start_time": "2024-04-14T16:26:04.442201",
   "version": "2.5.0"
  }
 },
 "nbformat": 4,
 "nbformat_minor": 5
}
